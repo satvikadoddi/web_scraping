{
  "nbformat": 4,
  "nbformat_minor": 0,
  "metadata": {
    "colab": {
      "provenance": []
    },
    "kernelspec": {
      "name": "python3",
      "display_name": "Python 3"
    },
    "language_info": {
      "name": "python"
    }
  },
  "cells": [
    {
      "cell_type": "code",
      "execution_count": 2,
      "metadata": {
        "id": "JZOtRhuDXQrR"
      },
      "outputs": [],
      "source": [
        "from bs4 import BeautifulSoup\n",
        "import requests\n",
        "import pandas as pd\n",
        "import numpy as np\n",
        "def get_title(soup):\n",
        "\n",
        "    try:\n",
        "        title = soup.find(\"span\", attrs={\"id\":'productTitle'})\n",
        "        title_value = title.text\n",
        "        title_string = title_value.strip()\n",
        "\n",
        "    except AttributeError:\n",
        "        title_string = \"\"\n",
        "\n",
        "    return title_string\n",
        "\n",
        "\n",
        "if __name__ == '__main__':\n",
        "\n",
        "    HEADERS = ({'User-Agent':'', 'Accept-Language': 'en-US, en;q=0.5'})\n",
        "\n",
        "    URL = \"https://www.amazon.com/s?k=playstation+4&ref=nb_sb_noss_2\"\n",
        "\n",
        "    webpage = requests.get(URL, headers=HEADERS)\n",
        "\n",
        "    soup = BeautifulSoup(webpage.content, \"html.parser\")\n",
        "\n",
        "    links = soup.find_all(\"a\", attrs={'class':'a-link-normal s-no-outline'})\n",
        "\n",
        "    links_list = []\n",
        "\n",
        "    for link in links:\n",
        "            links_list.append(link.get('href'))\n",
        "\n",
        "    d = {\"title\":[]}\n",
        "\n",
        "    for link in links_list:\n",
        "        new_webpage = requests.get(\"https://www.amazon.com\" + link, headers=HEADERS)\n",
        "\n",
        "        new_soup = BeautifulSoup(new_webpage.content, \"html.parser\")\n",
        "\n",
        "        d['title'].append(get_title(new_soup))\n",
        "\n",
        "\n",
        "    amazon_df = pd.DataFrame.from_dict(d)\n",
        "    amazon_df['title'].replace('', np.nan, inplace=True)\n",
        "    amazon_df = amazon_df.dropna(subset=['title'])\n",
        "    amazon_df.to_csv(\"amazon_data.csv\", header=True, index=False)"
      ]
    }
  ]
}