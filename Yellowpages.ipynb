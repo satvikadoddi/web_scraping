{
  "nbformat": 4,
  "nbformat_minor": 0,
  "metadata": {
    "colab": {
      "provenance": []
    },
    "kernelspec": {
      "name": "python3",
      "display_name": "Python 3"
    },
    "language_info": {
      "name": "python"
    }
  },
  "cells": [
    {
      "cell_type": "code",
      "execution_count": 2,
      "metadata": {
        "id": "JZOtRhuDXQrR"
      },
      "outputs": [],
      "source": [
        "import requests\n",
        "from bs4 import BeautifulSoup\n",
        "import pandas as pd\n",
        "import pdfkit\n",
        "\n",
        "# inputs\n",
        "\n",
        "search_for = input('Looking for : ').replace(' ','+')\n",
        "city = input('City : ').replace(' ','+')\n",
        "state = input(\"State (abbreviation) : \" )\n",
        "no_of_pages = input('No of pages to scrape : ')\n",
        "data_format = input('Press and enter \\n1 for csv (recommended)\\n2 for xlsx\\n3 for pdf : ')\n",
        "\n",
        "\n",
        "#creating dataframe\n",
        "\n",
        "df = {'Name':[],\n",
        "      'Phone':[],\n",
        "      'Address':[],\n",
        "      'Link':[]\n",
        "     }\n",
        "\n",
        "df = pd.DataFrame(df)\n",
        "\n",
        "#scraping data\n",
        "\n",
        "print(f\"Please wait while the data is collected for {search_for.replace('+',' ')} in {city.title().replace('+',' ')}, {state.upper()}\")\n",
        "\n",
        "for pages in range(1,int(no_of_pages)+1):\n",
        "    try:\n",
        "      html_text = requests.get(f'https://www.yellowpages.com/search?search_terms={search_for}&geo_location_terms={city}%2C+{state}&page={pages}').text\n",
        "      soup = BeautifulSoup(html_text, 'lxml')\n",
        "      listings = soup.find('div', class_ = 'search-results organic').find_all('div', class_ = 'result')\n",
        "      for index, listing in enumerate(listings):\n",
        "          try:\n",
        "              dealer_name = listings[index].div.div.find('div', class_ ='info').find('div', class_ ='info-section info-primary').h2.a.span.text\n",
        "              dealer_phone = listings[index].div.div.find('div', class_ ='info').find('div', class_ ='info-section info-secondary').find('div', class_ = 'phones phone primary').text\n",
        "              dealer_street_address = listings[index].div.div.find('div', class_ ='info').find('div', class_ ='info-section info-secondary').find('div', class_ = 'adr').find('div', class_ = 'street-address').text\n",
        "              dealer_locality = listings[index].div.div.find('div', class_ ='info').find('div', class_ ='info-section info-secondary').find('div', class_ = 'adr').find('div', class_ = 'locality').text\n",
        "              dealer_link = listings[index].div.div.find('div', class_ ='info').find('div', class_ ='info-section info-primary').h2.a.get('href')\n",
        "\n",
        "              df.loc[len(df.index)] = [dealer_name, dealer_phone, f'{dealer_street_address}, {dealer_locality}',f'www.yellowpages.com{dealer_link}']\n",
        "\n",
        "          except:\n",
        "              pass\n",
        "      if pages == 1:\n",
        "          print(f'{pages} page done...')\n",
        "      else:\n",
        "          print(f'{pages} pages done...')\n",
        "    except:\n",
        "      pass\n",
        "\n",
        "#converting to required format\n",
        "print('Creating your file...')\n",
        "\n",
        "if data_format == str(1):\n",
        "    df.to_csv(f\"{search_for.replace('+','')}{city.replace('+','_')}.csv\", index = False)\n",
        "elif data_format == str(2):\n",
        "    df.to_excel(f\"{search_for.replace('+','')}{city.replace('+','_')}.xlsx\")\n",
        "else:\n",
        "    f = open(f'{search_for}.html','w')\n",
        "    a = df.to_html()\n",
        "    f.write(a)\n",
        "    f.close()\n",
        "\n",
        "    path_wkhtmltopdf = r'C:\\Program Files\\wkhtmltopdf\\bin\\wkhtmltopdf.exe'\n",
        "    config = pdfkit.configuration(wkhtmltopdf=path_wkhtmltopdf)\n",
        "    pdfkit.from_file(f'{search_for}.html', f\"{search_for.replace('+','')}{city.replace('+','_')}.pdf\", configuration=config)\n",
        "\n",
        "print('Done. You can now access the file in your local directory.')"
      ]
    }
  ]
}