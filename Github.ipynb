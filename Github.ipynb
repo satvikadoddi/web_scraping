{
  "nbformat": 4,
  "nbformat_minor": 0,
  "metadata": {
    "colab": {
      "provenance": []
    },
    "kernelspec": {
      "name": "python3",
      "display_name": "Python 3"
    },
    "language_info": {
      "name": "python"
    }
  },
  "cells": [
    {
      "cell_type": "code",
      "execution_count": 1,
      "metadata": {
        "id": "JZOtRhuDXQrR"
      },
      "outputs": [],
      "source": [
        "!pip install requests --upgrade --quiet\n",
        "import requests\n",
        "!pip install beautifulsoup4 --upgrade --quiet\n",
        "from bs4 import BeautifulSoup\n",
        "!pip install pandas --quiet\n",
        "import pandas as pd\n",
        "\n",
        "topics_url = 'https://github.com/topics'\n",
        "response = requests.get(topics_url)\n",
        "page_contents = response.text\n",
        "with open ('webpage.html', 'w') as f:\n",
        "    f.write(page_contents)\n",
        "\n",
        "doc = BeautifulSoup(page_contents, 'html.parser')\n",
        "\n",
        "selection_class = 'f3 lh-condensed mb-0 mt-1 Link--primary'\n",
        "topic_title_tags = doc.find_all('p',{'class': selection_class})\n",
        "\n",
        "desc_selector = 'f5 color-fg-muted mb-0 mt-1'\n",
        "topic_desc_tags = doc.find_all('p', {'class': desc_selector})\n",
        "\n",
        "topic_title_tag0 = topic_title_tags[0]\n",
        "topic_link_tags = doc.find_all('a', {'class': 'no-underline flex-1 d-flex flex-column'})\n",
        "\n",
        "topic_titles = []\n",
        "for tag in topic_title_tags:\n",
        "    topic_titles.append(tag.text)\n",
        "\n",
        "topic_descs = []\n",
        "for tag in topic_desc_tags:\n",
        "    topic_descs.append(tag.text.strip())\n",
        "\n",
        "topic_urls = []\n",
        "base_url = 'https://github.com'\n",
        "for tag in topic_link_tags:\n",
        "    topic_urls.append(base_url + tag['href'])\n",
        "\n",
        "topics_dict = {\n",
        "    'title': topic_titles,\n",
        "    'description': topic_descs,\n",
        "    'url': topic_urls\n",
        "}\n",
        "\n",
        "topics_df = pd.DataFrame(topics_dict)\n",
        "topics_df.to_csv('topics.csv', index=None)"
      ]
    }
  ]
}